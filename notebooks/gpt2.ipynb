{
 "nbformat": 4,
 "nbformat_minor": 0,
 "metadata": {
  "colab": {
   "provenance": [],
   "gpuType": "T4"
  },
  "kernelspec": {
   "name": "python3",
   "display_name": "Python 3 (ipykernel)",
   "language": "python"
  },
  "language_info": {
   "name": "python"
  },
  "accelerator": "GPU"
 },
 "cells": [
  {
   "metadata": {
    "id": "T9gG7rfe3oh0",
    "executionInfo": {
     "status": "ok",
     "timestamp": 1736501180805,
     "user_tz": -60,
     "elapsed": 43514,
     "user": {
      "displayName": "Szymon Gołębiowski",
      "userId": "17262467132796409323"
     }
    },
    "outputId": "7ff5bcf8-d467-49cd-fc59-3307c13ce2ba",
    "colab": {
     "base_uri": "https://localhost:8080/"
    },
    "ExecuteTime": {
     "end_time": "2025-01-11T18:48:48.661359Z",
     "start_time": "2025-01-11T18:48:48.655700Z"
    }
   },
   "cell_type": "code",
   "source": [
    "# Run this cell to configure the Google Colab runtime\n",
    "\n",
    "import os\n",
    "try:\n",
    "    from google.colab import drive\n",
    "    drive.mount('/content/drive')\n",
    "    os.chdir(next((root for root, _, files in os.walk(\".\") if \"dsait4090_project_location\" in files), \".\"))\n",
    "    print(f'Google Colab: {os.getcwd()}')\n",
    "except ImportError:\n",
    "    print(f'Local: {os.getcwd()}')"
   ],
   "outputs": [
    {
     "name": "stdout",
     "output_type": "stream",
     "text": [
      "Local: /Users/szymong/tud/nlp/fact-checking/notebooks\n"
     ]
    }
   ],
   "execution_count": 1
  },
  {
   "cell_type": "code",
   "metadata": {
    "colab": {
     "base_uri": "https://localhost:8080/"
    },
    "id": "egtdWTvcOeTy",
    "outputId": "eb01210c-7cc3-4499-8745-b8c207dbe97d",
    "executionInfo": {
     "status": "ok",
     "timestamp": 1736463067239,
     "user_tz": -60,
     "elapsed": 8802,
     "user": {
      "displayName": "Szymon Gołębiowski",
      "userId": "17262467132796409323"
     }
    },
    "ExecuteTime": {
     "end_time": "2025-01-11T23:56:49.486630Z",
     "start_time": "2025-01-11T23:56:47.075870Z"
    }
   },
   "source": [
    "%load_ext autoreload\n",
    "%autoreload\n",
    "\n",
    "from src.early_stopping import EarlyStopping\n",
    "from src.common import get_device, read_json, DATA_PATH\n",
    "from src.quantemp_processor import QuantempProcessor, QT_VERACITY_LABELS\n",
    "from src.models.gpt2 import Gpt2Tokenizer, Gpt2Classifier\n",
    "from src.classification_training import ClassificationTraining\n",
    "\n",
    "import time\n",
    "import torch\n",
    "import logging\n",
    "import os\n",
    "from torch import nn\n",
    "\n",
    "# os.environ[\"PYTORCH_MPS_HIGH_WATERMARK_RATIO\"] = \"0.0\"\n",
    "# os.environ['CUDA_LAUNCH_BLOCKING'] = \"1\"\n",
    "\n",
    "device = get_device()"
   ],
   "outputs": [
    {
     "name": "stderr",
     "output_type": "stream",
     "text": [
      "/Users/szymong/.virtualenvs/tud-nlp-fact-checking/lib/python3.9/site-packages/urllib3/__init__.py:35: NotOpenSSLWarning: urllib3 v2 only supports OpenSSL 1.1.1+, currently the 'ssl' module is compiled with 'LibreSSL 2.8.3'. See: https://github.com/urllib3/urllib3/issues/3020\n",
      "  warnings.warn(\n"
     ]
    },
    {
     "name": "stdout",
     "output_type": "stream",
     "text": [
      "MPS: 1\n"
     ]
    }
   ],
   "execution_count": 1
  },
  {
   "cell_type": "code",
   "source": [
    "train_data = read_json(f\"{DATA_PATH}/raw_data/train_claims_quantemp.json\")\n",
    "val_data = read_json(f\"{DATA_PATH}/raw_data/val_claims_quantemp.json\")\n",
    "\n",
    "limit = 20\n",
    "train_data = train_data[:limit]\n",
    "val_data = val_data[:limit]"
   ],
   "metadata": {
    "colab": {
     "base_uri": "https://localhost:8080/"
    },
    "id": "ISKaA20X5XJq",
    "outputId": "bb9d6d4a-3b1f-4d1a-b70c-e3e001b89132",
    "executionInfo": {
     "status": "ok",
     "timestamp": 1736463074103,
     "user_tz": -60,
     "elapsed": 2993,
     "user": {
      "displayName": "Szymon Gołębiowski",
      "userId": "17262467132796409323"
     }
    },
    "ExecuteTime": {
     "end_time": "2025-01-11T23:56:51.681410Z",
     "start_time": "2025-01-11T23:56:51.517011Z"
    }
   },
   "outputs": [],
   "execution_count": 2
  },
  {
   "cell_type": "code",
   "source": [
    "%autoreload\n",
    "\n",
    "gpt2_tokenizer = Gpt2Tokenizer()\n",
    "data_processor = QuantempProcessor(gpt2_tokenizer, claim_decomposition=False)\n",
    "\n",
    "train_dataset = data_processor.transform(train_data)\n",
    "val_dataset = data_processor.transform(val_data)"
   ],
   "metadata": {
    "id": "KOK3P-9Gra78",
    "ExecuteTime": {
     "end_time": "2025-01-11T23:57:00.384151Z",
     "start_time": "2025-01-11T23:56:55.914719Z"
    }
   },
   "outputs": [
    {
     "data": {
      "text/plain": [
       "  0%|          | 0/20 [00:00<?, ?it/s]"
      ],
      "application/vnd.jupyter.widget-view+json": {
       "version_major": 2,
       "version_minor": 0,
       "model_id": "5d9c7956f9e1422eab98220ee008dc95"
      }
     },
     "metadata": {},
     "output_type": "display_data"
    },
    {
     "data": {
      "text/plain": [
       "  0%|          | 0/20 [00:00<?, ?it/s]"
      ],
      "application/vnd.jupyter.widget-view+json": {
       "version_major": 2,
       "version_minor": 0,
       "model_id": "11b0da2db7cd4712947066c33ecfd36a"
      }
     },
     "metadata": {},
     "output_type": "display_data"
    }
   ],
   "execution_count": 3
  },
  {
   "cell_type": "code",
   "source": [
    "%autoreload\n",
    "\n",
    "model = Gpt2Classifier(\"gpt2\", len(QT_VERACITY_LABELS), mlp_dim=1024, dropout=0.1).to(device)"
   ],
   "metadata": {
    "id": "cKSZPwobrl8y",
    "ExecuteTime": {
     "end_time": "2025-01-11T23:57:06.453810Z",
     "start_time": "2025-01-11T23:57:01.667096Z"
    }
   },
   "outputs": [],
   "execution_count": 4
  },
  {
   "cell_type": "code",
   "metadata": {
    "id": "awQ2Y9Jb3kht",
    "ExecuteTime": {
     "end_time": "2025-01-11T23:58:00.418354Z",
     "start_time": "2025-01-11T23:57:36.952678Z"
    }
   },
   "source": [
    "%autoreload\n",
    "\n",
    "training = ClassificationTraining(\n",
    "    model_name=\"gpt2/basic\",\n",
    "    train_dataset=train_dataset,\n",
    "    val_dataset=val_dataset,\n",
    "    model=model,\n",
    "    optimizer=torch.optim.AdamW(model.parameters(), lr=2e-5, eps=1e-8),\n",
    "    loss_function=nn.CrossEntropyLoss(),\n",
    "    batch_size=4,\n",
    "    early_stopping=EarlyStopping(patience=3),\n",
    "    device=device,\n",
    "    random_state=0\n",
    ")\n",
    "\n",
    "training.train(epochs=10)"
   ],
   "outputs": [
    {
     "name": "stdout",
     "output_type": "stream",
     "text": [
      "Starting new training\n",
      "\n",
      "EPOCH 1\n"
     ]
    },
    {
     "data": {
      "text/plain": [
       "train:   0%|          | 0/5 [00:00<?, ?it/s]"
      ],
      "application/vnd.jupyter.widget-view+json": {
       "version_major": 2,
       "version_minor": 0,
       "model_id": "52d3fdbc75d347c390b6cd3382735b4b"
      }
     },
     "metadata": {},
     "output_type": "display_data"
    },
    {
     "data": {
      "text/plain": [
       "eval:   0%|          | 0/5 [00:00<?, ?it/s]"
      ],
      "application/vnd.jupyter.widget-view+json": {
       "version_major": 2,
       "version_minor": 0,
       "model_id": "293f65c308124cbf8869455aaa1ad1e9"
      }
     },
     "metadata": {},
     "output_type": "display_data"
    },
    {
     "name": "stdout",
     "output_type": "stream",
     "text": [
      "    train accuracy: 0.200\n",
      "     eval accuracy: 0.800\n",
      "\n",
      "    avg train loss: 1.111\n",
      "     avg eval loss: 0.965\n",
      "\n",
      "Saved checkpoint to ../models/gpt2/basic/checkpoints/01_acc_800\n",
      "\n",
      "EPOCH 2\n"
     ]
    },
    {
     "data": {
      "text/plain": [
       "train:   0%|          | 0/5 [00:00<?, ?it/s]"
      ],
      "application/vnd.jupyter.widget-view+json": {
       "version_major": 2,
       "version_minor": 0,
       "model_id": "7dedb8659eef489ea690ed556d2d6b09"
      }
     },
     "metadata": {},
     "output_type": "display_data"
    },
    {
     "data": {
      "text/plain": [
       "eval:   0%|          | 0/5 [00:00<?, ?it/s]"
      ],
      "application/vnd.jupyter.widget-view+json": {
       "version_major": 2,
       "version_minor": 0,
       "model_id": "2eb91689bdfe4ef0965094317314f4ad"
      }
     },
     "metadata": {},
     "output_type": "display_data"
    },
    {
     "name": "stdout",
     "output_type": "stream",
     "text": [
      "    train accuracy: 0.650\n",
      "     eval accuracy: 0.800\n",
      "\n",
      "    avg train loss: 1.069\n",
      "     avg eval loss: 0.810\n",
      "\n",
      "Saved checkpoint to ../models/gpt2/basic/checkpoints/02_acc_800\n",
      "\n",
      "EPOCH 3\n"
     ]
    },
    {
     "data": {
      "text/plain": [
       "train:   0%|          | 0/5 [00:00<?, ?it/s]"
      ],
      "application/vnd.jupyter.widget-view+json": {
       "version_major": 2,
       "version_minor": 0,
       "model_id": "1c935bfa5fb74bc5948f17e6d69b8283"
      }
     },
     "metadata": {},
     "output_type": "display_data"
    },
    {
     "data": {
      "text/plain": [
       "eval:   0%|          | 0/5 [00:00<?, ?it/s]"
      ],
      "application/vnd.jupyter.widget-view+json": {
       "version_major": 2,
       "version_minor": 0,
       "model_id": "8cf5ea885e8042b091b05690709039c5"
      }
     },
     "metadata": {},
     "output_type": "display_data"
    },
    {
     "name": "stdout",
     "output_type": "stream",
     "text": [
      "    train accuracy: 0.150\n",
      "     eval accuracy: 0.800\n",
      "\n",
      "    avg train loss: 1.075\n",
      "     avg eval loss: 0.751\n",
      "\n",
      "Saved checkpoint to ../models/gpt2/basic/checkpoints/03_acc_800\n",
      "Early stopping counter: 1/3\n",
      "\n",
      "EPOCH 4\n"
     ]
    },
    {
     "data": {
      "text/plain": [
       "train:   0%|          | 0/5 [00:00<?, ?it/s]"
      ],
      "application/vnd.jupyter.widget-view+json": {
       "version_major": 2,
       "version_minor": 0,
       "model_id": "15110c34387c4f75affb7560f393463a"
      }
     },
     "metadata": {},
     "output_type": "display_data"
    },
    {
     "data": {
      "text/plain": [
       "eval:   0%|          | 0/5 [00:00<?, ?it/s]"
      ],
      "application/vnd.jupyter.widget-view+json": {
       "version_major": 2,
       "version_minor": 0,
       "model_id": "8ac8d585dc364613acab9259f2333680"
      }
     },
     "metadata": {},
     "output_type": "display_data"
    },
    {
     "name": "stdout",
     "output_type": "stream",
     "text": [
      "    train accuracy: 0.200\n",
      "     eval accuracy: 0.800\n",
      "\n",
      "    avg train loss: 1.109\n",
      "     avg eval loss: 0.741\n",
      "\n",
      "Saved checkpoint to ../models/gpt2/basic/checkpoints/04_acc_800\n",
      "Early stopping counter: 2/3\n",
      "\n",
      "EPOCH 5\n"
     ]
    },
    {
     "data": {
      "text/plain": [
       "train:   0%|          | 0/5 [00:00<?, ?it/s]"
      ],
      "application/vnd.jupyter.widget-view+json": {
       "version_major": 2,
       "version_minor": 0,
       "model_id": "c17874beb7c54603968dd25f04c88a3e"
      }
     },
     "metadata": {},
     "output_type": "display_data"
    },
    {
     "data": {
      "text/plain": [
       "eval:   0%|          | 0/5 [00:00<?, ?it/s]"
      ],
      "application/vnd.jupyter.widget-view+json": {
       "version_major": 2,
       "version_minor": 0,
       "model_id": "7026a0d7a8be449d8f69a85d75169fc6"
      }
     },
     "metadata": {},
     "output_type": "display_data"
    },
    {
     "name": "stdout",
     "output_type": "stream",
     "text": [
      "    train accuracy: 0.300\n",
      "     eval accuracy: 0.800\n",
      "\n",
      "    avg train loss: 0.954\n",
      "     avg eval loss: 0.728\n",
      "\n",
      "Saved checkpoint to ../models/gpt2/basic/checkpoints/05_acc_800\n",
      "Early stopping counter: 3/3\n",
      "Saved best model (epoch 2) to: ../models/gpt2/basic/gpt2_basic\n"
     ]
    }
   ],
   "execution_count": 5
  }
 ]
}
