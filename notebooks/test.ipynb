{
 "cells": [
  {
   "metadata": {},
   "cell_type": "code",
   "outputs": [],
   "execution_count": null,
   "source": [
    "import os.path\n",
    "from time import sleep\n",
    "\n",
    "from sentence_transformers.util import disabled_tqdm\n",
    "from sklearn.decomposition import PCA\n",
    "from sklearn.preprocessing import LabelEncoder\n",
    "\n",
    "from src.common import read_json, DATA_PATH\n",
    "\n",
    "data = read_json(f'{DATA_PATH}/raw_data/train_claimdecomp_evidence_question_mapping.json')\n",
    "\n",
    "data\n"
   ],
   "id": "45eeadfa2e871ac5"
  },
  {
   "metadata": {},
   "cell_type": "code",
   "outputs": [],
   "execution_count": null,
   "source": [
    "all_counter = 0\n",
    "repeated_counter = 0\n",
    "\n",
    "for fact in data:\n",
    "    evidences = [e['top_k_doc'][0] for e in fact['evidences'] if len(e['top_k_doc']) > 0]\n",
    "    all_counter += len(evidences)\n",
    "    repeated_counter += len(evidences) - len(set(evidences))\n",
    "\n",
    "print(all_counter)\n",
    "print(repeated_counter)\n",
    "print(repeated_counter / all_counter)"
   ],
   "id": "49088efead2be7c5"
  },
  {
   "metadata": {
    "ExecuteTime": {
     "end_time": "2025-01-10T09:07:47.859241Z",
     "start_time": "2025-01-10T09:07:47.855977Z"
    }
   },
   "cell_type": "code",
   "source": [
    "p = data[2]\n",
    "print(f\"{p['doc_id'][:5]}...\")\n",
    "print(f\"{p['scores'][:5]}...\")\n",
    "print(p['query_id'])\n",
    "print(p['claim'])\n",
    "\n",
    "print(len(p['doc_id']), len(p['scores']), len(p['docs']))"
   ],
   "id": "a4c326cbbcdcb1b1",
   "outputs": [
    {
     "name": "stdout",
     "output_type": "stream",
     "text": [
      "['224154', '372689', '163700', '378592', '279362']...\n",
      "[44.3021, 41.267403, 39.704765, 39.443134, 38.38752]...\n",
      "2\n",
      "UK government banned Covid vaccine for children age 5-11\n",
      "129 300 129\n"
     ]
    }
   ],
   "execution_count": 41
  },
  {
   "metadata": {
    "ExecuteTime": {
     "end_time": "2025-01-12T11:49:43.982894Z",
     "start_time": "2025-01-12T11:49:43.977275Z"
    }
   },
   "cell_type": "code",
   "source": [
    "from collections import Counter\n",
    "\n",
    "labels = [p['label'] for p in data]\n",
    "Counter(labels)['False'] / len(labels)"
   ],
   "id": "16fda6f601f9a5ae",
   "outputs": [
    {
     "data": {
      "text/plain": [
       "0.5807750377453448"
      ]
     },
     "execution_count": 8,
     "metadata": {},
     "output_type": "execute_result"
    }
   ],
   "execution_count": 8
  },
  {
   "metadata": {
    "ExecuteTime": {
     "end_time": "2025-01-10T08:38:35.471632Z",
     "start_time": "2025-01-10T08:38:35.467008Z"
    }
   },
   "cell_type": "code",
   "source": "data[0]['query_id']",
   "id": "7061cc4221a2cd35",
   "outputs": [
    {
     "data": {
      "text/plain": [
       "0"
      ]
     },
     "execution_count": 14,
     "metadata": {},
     "output_type": "execute_result"
    }
   ],
   "execution_count": 14
  },
  {
   "metadata": {
    "ExecuteTime": {
     "end_time": "2025-01-10T08:38:43.349065Z",
     "start_time": "2025-01-10T08:38:43.345691Z"
    }
   },
   "cell_type": "code",
   "source": "data[0]['claim']",
   "id": "ab4ab14b002ec1aa",
   "outputs": [
    {
     "data": {
      "text/plain": [
       "'\"The non-partisan Congressional Budget Office concluded ObamaCare will cost the U.S. more than 800,000 jobs.\"'"
      ]
     },
     "execution_count": 15,
     "metadata": {},
     "output_type": "execute_result"
    }
   ],
   "execution_count": 15
  },
  {
   "metadata": {
    "ExecuteTime": {
     "end_time": "2025-01-11T17:42:21.833561Z",
     "start_time": "2025-01-11T17:42:13.549598Z"
    }
   },
   "cell_type": "code",
   "source": [
    "from tqdm.auto import tqdm, trange\n",
    "from time import sleep\n",
    "\n",
    "for i in tqdm(range(10)):\n",
    "    sleep(0.3)\n",
    "    print(i)\n",
    "\n",
    "for i in tqdm(range(10)):\n",
    "    sleep(0.3)\n",
    "    print(i)\n",
    "\n",
    "for i in tqdm(range(10)):\n",
    "    sleep(0.3)\n",
    "    print(i)"
   ],
   "id": "d8143e18c0aec11a",
   "outputs": [
    {
     "data": {
      "text/plain": [
       "  0%|          | 0/10 [00:00<?, ?it/s]"
      ],
      "application/vnd.jupyter.widget-view+json": {
       "version_major": 2,
       "version_minor": 0,
       "model_id": "e171ff545c5047079e77b0adb76b52d3"
      }
     },
     "metadata": {},
     "output_type": "display_data"
    },
    {
     "name": "stdout",
     "output_type": "stream",
     "text": [
      "0\n",
      "1\n",
      "2\n",
      "3\n",
      "4\n",
      "5\n",
      "6\n",
      "7\n",
      "8\n",
      "9\n"
     ]
    },
    {
     "data": {
      "text/plain": [
       "  0%|          | 0/10 [00:00<?, ?it/s]"
      ],
      "application/vnd.jupyter.widget-view+json": {
       "version_major": 2,
       "version_minor": 0,
       "model_id": "c29e4fe686c746179a6d90f5686101bd"
      }
     },
     "metadata": {},
     "output_type": "display_data"
    },
    {
     "name": "stdout",
     "output_type": "stream",
     "text": [
      "0\n",
      "1\n",
      "2\n",
      "3\n",
      "4\n",
      "5\n",
      "6\n",
      "7\n",
      "8\n",
      "9\n"
     ]
    },
    {
     "data": {
      "text/plain": [
       "  0%|          | 0/10 [00:00<?, ?it/s]"
      ],
      "application/vnd.jupyter.widget-view+json": {
       "version_major": 2,
       "version_minor": 0,
       "model_id": "db7469f0c763452da7622011f1db440d"
      }
     },
     "metadata": {},
     "output_type": "display_data"
    },
    {
     "name": "stdout",
     "output_type": "stream",
     "text": [
      "0\n",
      "1\n",
      "2\n",
      "3\n",
      "4\n",
      "5\n",
      "6\n"
     ]
    },
    {
     "ename": "KeyboardInterrupt",
     "evalue": "",
     "output_type": "error",
     "traceback": [
      "\u001B[0;31m---------------------------------------------------------------------------\u001B[0m",
      "\u001B[0;31mKeyboardInterrupt\u001B[0m                         Traceback (most recent call last)",
      "Cell \u001B[0;32mIn[37], line 13\u001B[0m\n\u001B[1;32m     10\u001B[0m     \u001B[38;5;28mprint\u001B[39m(i)\n\u001B[1;32m     12\u001B[0m \u001B[38;5;28;01mfor\u001B[39;00m i \u001B[38;5;129;01min\u001B[39;00m tqdm(\u001B[38;5;28mrange\u001B[39m(\u001B[38;5;241m10\u001B[39m)):\n\u001B[0;32m---> 13\u001B[0m     \u001B[43msleep\u001B[49m\u001B[43m(\u001B[49m\u001B[38;5;241;43m0.3\u001B[39;49m\u001B[43m)\u001B[49m\n\u001B[1;32m     14\u001B[0m     \u001B[38;5;28mprint\u001B[39m(i)\n",
      "\u001B[0;31mKeyboardInterrupt\u001B[0m: "
     ]
    }
   ],
   "execution_count": 37
  },
  {
   "metadata": {
    "ExecuteTime": {
     "end_time": "2025-01-12T21:46:52.606566Z",
     "start_time": "2025-01-12T21:46:52.593330Z"
    }
   },
   "cell_type": "code",
   "source": [
    "%load_ext autoreload\n",
    "%autoreload\n",
    "\n",
    "from src.checkpoint_manager import CheckpointsManager\n",
    "from torch import nn\n",
    "\n",
    "weights = nn.Module().state_dict()\n",
    "cm = CheckpointsManager(\"gpt2/basic\")\n"
   ],
   "id": "176f9872eed4a8d0",
   "outputs": [
    {
     "name": "stdout",
     "output_type": "stream",
     "text": [
      "The autoreload extension is already loaded. To reload it, use:\n",
      "  %reload_ext autoreload\n"
     ]
    }
   ],
   "execution_count": 5
  },
  {
   "metadata": {
    "ExecuteTime": {
     "end_time": "2025-01-12T21:45:28.476203Z",
     "start_time": "2025-01-12T21:45:28.452048Z"
    }
   },
   "cell_type": "code",
   "source": [
    "%autoreload\n",
    "cm.clear_model_dir()"
   ],
   "id": "480036c06ccbcadf",
   "outputs": [
    {
     "name": "stdout",
     "output_type": "stream",
     "text": [
      "Removed: epoch_08\n",
      "Removed: best_model_04\n"
     ]
    }
   ],
   "execution_count": 2
  },
  {
   "metadata": {
    "ExecuteTime": {
     "end_time": "2025-01-12T21:46:53.743193Z",
     "start_time": "2025-01-12T21:46:53.725956Z"
    }
   },
   "cell_type": "code",
   "source": [
    "%autoreload\n",
    "cm.save_checkpoint(weights, 1, 0.365)\n",
    "cm.save_checkpoint(weights, 2, 0.564)\n",
    "cm.save_checkpoint(weights, 3, 0.987)\n",
    "cm.save_checkpoint(weights, 4, 0.435)\n",
    "cm.save_checkpoint(weights, 5, 0.765)\n",
    "cm.save_checkpoint(weights, 6, 0.234)\n",
    "cm.save_checkpoint(weights, 7, 0.005)\n"
   ],
   "id": "729b4f23fbde4c04",
   "outputs": [
    {
     "name": "stdout",
     "output_type": "stream",
     "text": [
      "Saved checkpoint: epoch_01\n",
      "Saved best model: best_model_01\n",
      "Saved checkpoint: epoch_02\n",
      "Removed: epoch_01\n",
      "Saved best model: best_model_02\n",
      "Removed: best_model_01\n",
      "Saved checkpoint: epoch_03\n",
      "Removed: epoch_02\n",
      "Saved best model: best_model_03\n",
      "Removed: best_model_02\n",
      "Saved checkpoint: epoch_04\n",
      "Removed: epoch_03\n",
      "Saved checkpoint: epoch_05\n",
      "Removed: epoch_04\n",
      "Saved checkpoint: epoch_06\n",
      "Removed: epoch_05\n",
      "Saved checkpoint: epoch_07\n",
      "Removed: epoch_06\n"
     ]
    }
   ],
   "execution_count": 6
  },
  {
   "metadata": {
    "ExecuteTime": {
     "end_time": "2025-01-12T21:49:49.624515Z",
     "start_time": "2025-01-12T21:49:49.515383Z"
    }
   },
   "cell_type": "code",
   "source": [
    "%autoreload\n",
    "\n",
    "cm.store_best_model()"
   ],
   "id": "4802088ddf0e39af",
   "outputs": [
    {
     "name": "stdout",
     "output_type": "stream",
     "text": [
      "Stored best model as: gpt2_basic_12-01_22-49\n"
     ]
    }
   ],
   "execution_count": 17
  },
  {
   "metadata": {
    "ExecuteTime": {
     "end_time": "2025-01-13T02:37:50.508875Z",
     "start_time": "2025-01-13T02:37:50.322710Z"
    }
   },
   "cell_type": "code",
   "source": [
    "from src.common import read_json, DATA_PATH\n",
    "import os\n",
    "data = read_json(os.path.join(DATA_PATH, \"test_evidences.json\"))\n",
    "len(data)"
   ],
   "id": "3bbf8e119e79e52",
   "outputs": [
    {
     "data": {
      "text/plain": [
       "2495"
      ]
     },
     "execution_count": 19,
     "metadata": {},
     "output_type": "execute_result"
    }
   ],
   "execution_count": 19
  },
  {
   "metadata": {
    "ExecuteTime": {
     "end_time": "2025-01-13T02:41:58.413766Z",
     "start_time": "2025-01-13T02:41:58.409522Z"
    }
   },
   "cell_type": "code",
   "source": [
    "p = data[0]\n",
    "\n",
    "p.keys()"
   ],
   "id": "ef5a91d409c4abe1",
   "outputs": [
    {
     "data": {
      "text/plain": [
       "dict_keys(['claim', 'top100evidences'])"
      ]
     },
     "execution_count": 30,
     "metadata": {},
     "output_type": "execute_result"
    }
   ],
   "execution_count": 30
  },
  {
   "metadata": {
    "ExecuteTime": {
     "end_time": "2025-01-13T03:15:11.394375Z",
     "start_time": "2025-01-13T03:15:11.392064Z"
    }
   },
   "cell_type": "code",
   "source": [
    "def fix_labels(claims):\n",
    "    return claims\n",
    "\n"
   ],
   "id": "c91671a20a70ffa1",
   "outputs": [
    {
     "name": "stdout",
     "output_type": "stream",
     "text": [
      "['asas']\n"
     ]
    }
   ],
   "execution_count": 62
  }
 ],
 "metadata": {
  "kernelspec": {
   "display_name": "Python 3",
   "language": "python",
   "name": "python3"
  },
  "language_info": {
   "codemirror_mode": {
    "name": "ipython",
    "version": 2
   },
   "file_extension": ".py",
   "mimetype": "text/x-python",
   "name": "python",
   "nbconvert_exporter": "python",
   "pygments_lexer": "ipython2",
   "version": "2.7.6"
  }
 },
 "nbformat": 4,
 "nbformat_minor": 5
}
