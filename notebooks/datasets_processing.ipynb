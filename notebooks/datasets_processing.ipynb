{
 "cells": [
  {
   "metadata": {},
   "cell_type": "markdown",
   "source": "#### Assinging top100 evidences to claims",
   "id": "f077fddf261859d6"
  },
  {
   "metadata": {},
   "cell_type": "code",
   "outputs": [],
   "execution_count": null,
   "source": [
    "%load_ext autoreload\n",
    "%autoreload\n",
    "\n",
    "import json\n",
    "import os\n",
    "from src.common import DATA_PATH, read_json, QT_VERACITY_LABELS\n",
    "\n",
    "\n",
    "def process(claims_file, evidences_file):\n",
    "    claims = read_json(os.path.join(DATA_PATH, claims_file))\n",
    "    evidences = read_json(os.path.join(DATA_PATH, evidences_file))\n",
    "\n",
    "    evidences = {e['claim']: e for e in evidences}\n",
    "\n",
    "    for claim in claims:\n",
    "        claim['top100evidences'] = evidences[claim['claim']]['top100evidences']\n",
    "\n",
    "    print(len(claims), len(evidences))\n",
    "    save_json(f'processed_{claims_file}', claims)\n",
    "\n",
    "\n",
    "process(f'{DATA_PATH}/raw_data/train_claims_quantemp.json', f'{DATA_PATH}/train_evidences.json')\n",
    "process(f'{DATA_PATH}/raw_data/val_claims_quantemp.json', f'{DATA_PATH}/val_evidences.json')\n",
    "process(f'{DATA_PATH}/raw_data/test_claims_quantemp.json', f'{DATA_PATH}/test_evidences.json')"
   ],
   "id": "3608ee1567d5c543"
  },
  {
   "metadata": {},
   "cell_type": "markdown",
   "source": "#### Fixing format for gpt3.5-turbo decomposition",
   "id": "7c81c446c8030f98"
  },
  {
   "metadata": {
    "ExecuteTime": {
     "end_time": "2025-01-13T11:10:54.820223Z",
     "start_time": "2025-01-13T11:10:53.117738Z"
    }
   },
   "cell_type": "code",
   "source": [
    "%load_ext autoreload\n",
    "%autoreload\n",
    "\n",
    "import json\n",
    "import pandas as pd\n",
    "from src.common import DATA_PATH, read_json\n",
    "\n",
    "claims = read_json(f'{DATA_PATH}/raw_data/test_claims_100_evidences.json')\n",
    "decomposed_questions = pd.read_csv(f'{DATA_PATH}/test_claimdecomp.csv', sep=\"@\")\n",
    "\n",
    "for claim in claims:#\n",
    "    questions = decomposed_questions[decomposed_questions['claims'] == claim['claim']]['questions']\n",
    "\n",
    "    if len(questions) == 0:\n",
    "        questions = []\n",
    "    elif len(questions) == 1:\n",
    "        questions = questions.iloc[0].split(\"Next Question: \")\n",
    "    else:\n",
    "        print(\"ERROR\")\n",
    "\n",
    "    questions = [q.strip() for q in questions]\n",
    "    claim['questions'] = questions\n",
    "\n",
    "\n",
    "with open(f'{DATA_PATH}/test_decomposed_gpt3.5-turbo.json', \"w\") as file:\n",
    "    json.dump(claims, file, indent=4)"
   ],
   "id": "f9e723661c6f5f0e",
   "outputs": [
    {
     "name": "stdout",
     "output_type": "stream",
     "text": [
      "The autoreload extension is already loaded. To reload it, use:\n",
      "  %reload_ext autoreload\n"
     ]
    }
   ],
   "execution_count": 9
  },
  {
   "metadata": {},
   "cell_type": "markdown",
   "source": "#### Fixing label names in gpt3.5-turbo decomposition",
   "id": "75571c2fc8ee2cba"
  },
  {
   "metadata": {
    "ExecuteTime": {
     "end_time": "2025-01-13T11:28:47.131079Z",
     "start_time": "2025-01-13T11:28:46.068541Z"
    }
   },
   "cell_type": "code",
   "source": [
    "%load_ext autoreload\n",
    "%autoreload\n",
    "\n",
    "import json\n",
    "import os\n",
    "from src.common import DATA_PATH, read_json, save_json, QT_VERACITY_LABELS\n",
    "\n",
    "def fix_labels(filename):\n",
    "    claims = read_json(os.path.join(DATA_PATH, filename))\n",
    "\n",
    "    for claim in claims:\n",
    "        if claim['label'] == \"Half True/False\":\n",
    "            claim['label'] = \"Conflicting\"\n",
    "\n",
    "        assert claim['label'] in QT_VERACITY_LABELS\n",
    "\n",
    "    print(len(claims))\n",
    "    save_json(os.path.join(DATA_PATH, f'fixed_{filename}'), claims)\n",
    "\n",
    "\n",
    "fix_labels('train_evidences_decomposed_gpt3.5-turbo.json')\n",
    "fix_labels('val_evidences_decomposed_gpt3.5-turbo.json')\n",
    "fix_labels('test_evidences_decomposed_gpt3.5-turbo.json')\n"
   ],
   "id": "4fb58b6af2718cd2",
   "outputs": [
    {
     "name": "stdout",
     "output_type": "stream",
     "text": [
      "The autoreload extension is already loaded. To reload it, use:\n",
      "  %reload_ext autoreload\n",
      "9935\n",
      "3084\n",
      "2495\n"
     ]
    }
   ],
   "execution_count": 18
  },
  {
   "metadata": {},
   "cell_type": "markdown",
   "source": "#### Finding top evidences for decomposed questions / claim",
   "id": "c31464035131191d"
  },
  {
   "metadata": {
    "ExecuteTime": {
     "end_time": "2025-01-13T11:05:31.438002Z",
     "start_time": "2025-01-13T10:39:13.648554Z"
    }
   },
   "cell_type": "code",
   "source": [
    "%load_ext autoreload\n",
    "%autoreload\n",
    "\n",
    "from src.common import read_json, DATA_PATH, save_json\n",
    "from src.evidence_processor import EvidenceProcessor\n",
    "\n",
    "processor = EvidenceProcessor(decomposed=True, top_k=1)\n",
    "\n",
    "test_dataset = read_json(f'{DATA_PATH}/test_decomposed_gpt3.5-turbo.json')\n",
    "\n",
    "test_dataset_evidence = processor.transform(test_dataset)\n",
    "\n",
    "save_json(f'{DATA_PATH}/test_evidences_decomposed_gpt3.5-turbo.json', test_dataset_evidence)"
   ],
   "id": "262ec9556a5d35cc",
   "outputs": [
    {
     "name": "stdout",
     "output_type": "stream",
     "text": [
      "The autoreload extension is already loaded. To reload it, use:\n",
      "  %reload_ext autoreload\n"
     ]
    },
    {
     "data": {
      "text/plain": [
       "  0%|          | 0/2495 [00:00<?, ?it/s]"
      ],
      "application/vnd.jupyter.widget-view+json": {
       "version_major": 2,
       "version_minor": 0,
       "model_id": "5064952e779b425ea026c04ef00736aa"
      }
     },
     "metadata": {},
     "output_type": "display_data"
    }
   ],
   "execution_count": 8
  }
 ],
 "metadata": {
  "kernelspec": {
   "name": "python3",
   "language": "python",
   "display_name": "Python 3 (ipykernel)"
  }
 },
 "nbformat": 5,
 "nbformat_minor": 9
}
