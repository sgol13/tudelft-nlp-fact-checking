{
 "cells": [
  {
   "metadata": {
    "ExecuteTime": {
     "end_time": "2025-01-13T17:48:28.696505Z",
     "start_time": "2025-01-13T17:48:28.689994Z"
    }
   },
   "cell_type": "code",
   "source": [
    "%load_ext autoreload\n",
    "\n",
    "import json\n",
    "import os\n",
    "import pandas as pd\n",
    "\n",
    "from src.common import read_data, save_data, DATA_PATH, QT_VERACITY_LABELS\n",
    "from src.evidence_processor import EvidenceProcessor"
   ],
   "id": "e304fb724a90d720",
   "outputs": [
    {
     "name": "stdout",
     "output_type": "stream",
     "text": [
      "The autoreload extension is already loaded. To reload it, use:\n",
      "  %reload_ext autoreload\n"
     ]
    }
   ],
   "execution_count": 36
  },
  {
   "metadata": {},
   "cell_type": "markdown",
   "source": "#### Finding top evidences for decomposed questions / claim",
   "id": "c31464035131191d"
  },
  {
   "metadata": {
    "ExecuteTime": {
     "end_time": "2025-01-13T21:05:32.110012Z",
     "start_time": "2025-01-13T21:05:29.840415Z"
    }
   },
   "cell_type": "code",
   "source": [
    "%autoreload\n",
    "\n",
    "processor = EvidenceProcessor(decomposed=True, top_k=1)\n",
    "\n",
    "DECOMPOSITION = 'gpt3.5-turbo'\n",
    "\n",
    "for split in ['train', 'val', 'test']:\n",
    "    claims = read_data(f'{DECOMPOSITION}/{split}_decomposed_{DECOMPOSITION}.json')\n",
    "    claims = processor.transform(claims)\n",
    "    save_data(f'{DECOMPOSITION}/{split}_evidences_decomposed_{DECOMPOSITION}.json', claims)"
   ],
   "id": "262ec9556a5d35cc",
   "outputs": [
    {
     "data": {
      "text/plain": [
       "  0%|          | 0/9935 [00:00<?, ?it/s]"
      ],
      "application/vnd.jupyter.widget-view+json": {
       "version_major": 2,
       "version_minor": 0,
       "model_id": "89cbb40d72024c7aa6d07a665f143957"
      }
     },
     "metadata": {},
     "output_type": "display_data"
    },
    {
     "ename": "KeyError",
     "evalue": "'top100evidences'",
     "output_type": "error",
     "traceback": [
      "\u001B[0;31m---------------------------------------------------------------------------\u001B[0m",
      "\u001B[0;31mKeyError\u001B[0m                                  Traceback (most recent call last)",
      "Cell \u001B[0;32mIn[51], line 9\u001B[0m\n\u001B[1;32m      7\u001B[0m \u001B[38;5;28;01mfor\u001B[39;00m split \u001B[38;5;129;01min\u001B[39;00m [\u001B[38;5;124m'\u001B[39m\u001B[38;5;124mtrain\u001B[39m\u001B[38;5;124m'\u001B[39m, \u001B[38;5;124m'\u001B[39m\u001B[38;5;124mval\u001B[39m\u001B[38;5;124m'\u001B[39m, \u001B[38;5;124m'\u001B[39m\u001B[38;5;124mtest\u001B[39m\u001B[38;5;124m'\u001B[39m]:\n\u001B[1;32m      8\u001B[0m     claims \u001B[38;5;241m=\u001B[39m read_data(\u001B[38;5;124mf\u001B[39m\u001B[38;5;124m'\u001B[39m\u001B[38;5;132;01m{\u001B[39;00mDECOMPOSITION\u001B[38;5;132;01m}\u001B[39;00m\u001B[38;5;124m/\u001B[39m\u001B[38;5;132;01m{\u001B[39;00msplit\u001B[38;5;132;01m}\u001B[39;00m\u001B[38;5;124m_decomposed_\u001B[39m\u001B[38;5;132;01m{\u001B[39;00mDECOMPOSITION\u001B[38;5;132;01m}\u001B[39;00m\u001B[38;5;124m.json\u001B[39m\u001B[38;5;124m'\u001B[39m)\n\u001B[0;32m----> 9\u001B[0m     claims \u001B[38;5;241m=\u001B[39m \u001B[43mprocessor\u001B[49m\u001B[38;5;241;43m.\u001B[39;49m\u001B[43mtransform\u001B[49m\u001B[43m(\u001B[49m\u001B[43mclaims\u001B[49m\u001B[43m)\u001B[49m\n\u001B[1;32m     10\u001B[0m     save_data(\u001B[38;5;124mf\u001B[39m\u001B[38;5;124m'\u001B[39m\u001B[38;5;132;01m{\u001B[39;00mDECOMPOSITION\u001B[38;5;132;01m}\u001B[39;00m\u001B[38;5;124m/\u001B[39m\u001B[38;5;132;01m{\u001B[39;00msplit\u001B[38;5;132;01m}\u001B[39;00m\u001B[38;5;124m_evidences_decomposed_\u001B[39m\u001B[38;5;132;01m{\u001B[39;00mDECOMPOSITION\u001B[38;5;132;01m}\u001B[39;00m\u001B[38;5;124m.json\u001B[39m\u001B[38;5;124m'\u001B[39m, claims)\n",
      "File \u001B[0;32m~/tud/nlp/fact-checking/src/evidence_processor.py:21\u001B[0m, in \u001B[0;36mEvidenceProcessor.transform\u001B[0;34m(self, dataset)\u001B[0m\n\u001B[1;32m     19\u001B[0m \u001B[38;5;28;01mfor\u001B[39;00m claim \u001B[38;5;129;01min\u001B[39;00m tqdm(dataset):\n\u001B[1;32m     20\u001B[0m     sentences \u001B[38;5;241m=\u001B[39m claim[\u001B[38;5;124m'\u001B[39m\u001B[38;5;124msubquestions\u001B[39m\u001B[38;5;124m'\u001B[39m] \u001B[38;5;28;01mif\u001B[39;00m \u001B[38;5;28mself\u001B[39m\u001B[38;5;241m.\u001B[39m_decomposed \u001B[38;5;28;01melse\u001B[39;00m [claim[\u001B[38;5;124m'\u001B[39m\u001B[38;5;124mclaim\u001B[39m\u001B[38;5;124m'\u001B[39m]]\n\u001B[0;32m---> 21\u001B[0m     claim[\u001B[38;5;124m'\u001B[39m\u001B[38;5;124mevidences\u001B[39m\u001B[38;5;124m'\u001B[39m] \u001B[38;5;241m=\u001B[39m \u001B[38;5;28mself\u001B[39m\u001B[38;5;241m.\u001B[39m_find_similar_evidences(sentences, \u001B[43mclaim\u001B[49m\u001B[43m[\u001B[49m\u001B[38;5;124;43m'\u001B[39;49m\u001B[38;5;124;43mtop100evidences\u001B[39;49m\u001B[38;5;124;43m'\u001B[39;49m\u001B[43m]\u001B[49m)\n\u001B[1;32m     23\u001B[0m     \u001B[38;5;28;01mdel\u001B[39;00m claim[\u001B[38;5;124m'\u001B[39m\u001B[38;5;124mtop100evidences\u001B[39m\u001B[38;5;124m'\u001B[39m]\n\u001B[1;32m     24\u001B[0m     \u001B[38;5;28;01mif\u001B[39;00m \u001B[38;5;124m'\u001B[39m\u001B[38;5;124mdoc\u001B[39m\u001B[38;5;124m'\u001B[39m \u001B[38;5;129;01min\u001B[39;00m claim:\n",
      "\u001B[0;31mKeyError\u001B[0m: 'top100evidences'"
     ]
    }
   ],
   "execution_count": 51
  },
  {
   "metadata": {
    "ExecuteTime": {
     "end_time": "2025-01-13T20:52:49.526506Z",
     "start_time": "2025-01-13T20:52:49.171641Z"
    }
   },
   "cell_type": "code",
   "source": [
    "DECOMPOSITION = 'gpt3.5-turbo'\n",
    "claims = read_data(f'{DECOMPOSITION}/val_decomposed_{DECOMPOSITION}.json')\n",
    "claims = [claims[3]]\n",
    "print(claims[0]['claim'])"
   ],
   "id": "8f48f9f5ad2412d0",
   "outputs": [
    {
     "name": "stdout",
     "output_type": "stream",
     "text": [
      "Durch einen Vergleich mit den Symptomen einer Covid-19-Erkrankung entsteht der Eindruck, die Impfung von Biontech/Pfizer verursache ähnliche oder gar schlimmere Symptome als Covid-19. Der Impfstoff sei zudem laut der U.S. Food and Drug Administration (FDA) nicht zugelassen.\n"
     ]
    }
   ],
   "execution_count": 49
  },
  {
   "metadata": {
    "ExecuteTime": {
     "end_time": "2025-01-13T20:52:52.302301Z",
     "start_time": "2025-01-13T20:52:50.745896Z"
    }
   },
   "cell_type": "code",
   "source": [
    "%autoreload\n",
    "processor.transform(claims)"
   ],
   "id": "578719bbe6651454",
   "outputs": [
    {
     "data": {
      "text/plain": [
       "  0%|          | 0/1 [00:00<?, ?it/s]"
      ],
      "application/vnd.jupyter.widget-view+json": {
       "version_major": 2,
       "version_minor": 0,
       "model_id": "e1c45fb89d614219bb400374fb92f0fb"
      }
     },
     "metadata": {},
     "output_type": "display_data"
    },
    {
     "name": "stdout",
     "output_type": "stream",
     "text": [
      "[[ 0.1202354   0.10268626  0.1030638 ]\n",
      " [ 0.22245136  0.16404705  0.25227696]\n",
      " [ 0.23014194  0.12849608  0.23000824]\n",
      " [ 0.17599234  0.1808079   0.19720061]\n",
      " [ 0.06709042  0.10257602  0.09295434]\n",
      " [ 0.26672608  0.17740151  0.27775317]\n",
      " [ 0.12978634  0.12140166  0.14179914]\n",
      " [ 0.26021358  0.18170056  0.2623487 ]\n",
      " [ 0.18649955  0.10943734  0.21212196]\n",
      " [ 0.1339188   0.07766123  0.15638766]\n",
      " [ 0.20529182  0.19065559  0.22627622]\n",
      " [ 0.14290802  0.12982573  0.14962734]\n",
      " [ 0.16022953  0.14611997  0.15857342]\n",
      " [ 0.05993903  0.08239873  0.09091972]\n",
      " [-0.03265695 -0.00210017 -0.02638025]\n",
      " [ 0.08587708  0.06623653  0.07442784]\n",
      " [ 0.10025234  0.03869817  0.09716454]\n",
      " [ 0.01872294  0.08825772  0.04968441]\n",
      " [ 0.08710689 -0.00170853  0.1072647 ]\n",
      " [ 0.07076254  0.08525328  0.10544405]\n",
      " [ 0.24723083  0.14921212  0.2307147 ]\n",
      " [ 0.03701835  0.00903926  0.05036606]\n",
      " [ 0.12939395  0.13022119  0.15396728]\n",
      " [ 0.17360248  0.15353468  0.20886613]\n",
      " [ 0.1604015   0.14081664  0.15633066]\n",
      " [ 0.13173252  0.12260018  0.15048656]\n",
      " [ 0.1133913   0.10223588  0.15207072]\n",
      " [ 0.08876565  0.12487953  0.12204715]\n",
      " [ 0.15906829  0.16303518  0.1685945 ]\n",
      " [ 0.22220472  0.16028674  0.2263492 ]\n",
      " [ 0.11188841  0.12620816  0.13204414]\n",
      " [ 0.05286833  0.0963903   0.10005388]\n",
      " [ 0.12994383  0.10796189  0.16437072]\n",
      " [ 0.32059908  0.13713281  0.32724372]\n",
      " [ 0.12148567  0.14796007  0.14383018]\n",
      " [ 0.23209798  0.06133099  0.24396735]\n",
      " [ 0.38343367  0.14683972  0.3830022 ]\n",
      " [ 0.03593977  0.01754304  0.04371112]\n",
      " [ 0.13806944  0.16239539  0.14846382]\n",
      " [ 0.07853672  0.10627145  0.10130387]\n",
      " [ 0.06831148  0.0299533   0.07493166]\n",
      " [ 0.03991753  0.04586999  0.0595727 ]\n",
      " [ 0.01497038 -0.01072295  0.01619771]\n",
      " [ 0.12181023  0.11895588  0.14601935]\n",
      " [ 0.06741048  0.04792215  0.08726983]\n",
      " [ 0.08360907  0.07559089  0.0893658 ]\n",
      " [ 0.0998348   0.10799898  0.10642661]\n",
      " [ 0.3350585   0.35985872  0.31864053]\n",
      " [ 0.09571041  0.15082683  0.11915179]\n",
      " [ 0.31150883  0.27111402  0.32498437]\n",
      " [ 0.13824882  0.10565834  0.14821893]\n",
      " [ 0.08108927  0.0530851   0.10564743]\n",
      " [ 0.20673335  0.14392127  0.2031263 ]\n",
      " [ 0.08722299  0.04644565  0.0855206 ]\n",
      " [ 0.17181127  0.14246906  0.17176303]\n",
      " [ 0.34272984  0.16424617  0.3478785 ]\n",
      " [ 0.31538478  0.14009799  0.2916664 ]\n",
      " [ 0.2961811   0.16745892  0.31500036]\n",
      " [ 0.09430157  0.09183387  0.08325201]\n",
      " [ 0.14129435  0.12162854  0.14658143]\n",
      " [ 0.13132088  0.06243687  0.12405766]\n",
      " [ 0.05526115 -0.01719907  0.04631767]\n",
      " [ 0.08580003  0.03356308  0.08769377]\n",
      " [ 0.04980628  0.08757909  0.07578966]\n",
      " [ 0.14250728  0.10541564  0.14721495]\n",
      " [ 0.09357437  0.03996331  0.09678791]\n",
      " [ 0.11241461  0.07445101  0.1172339 ]\n",
      " [ 0.1224801   0.06258157  0.10721152]\n",
      " [ 0.10560824  0.07735831  0.12616539]\n",
      " [ 0.08396298  0.08196062  0.1341518 ]\n",
      " [ 0.09121048  0.05764203  0.09643231]\n",
      " [ 0.06738754  0.0368078   0.07117146]\n",
      " [ 0.3458806   0.24491252  0.36276594]\n",
      " [ 0.21964815  0.22114733  0.21285196]\n",
      " [ 0.12481702  0.12850259  0.15918645]\n",
      " [ 0.01979832  0.01892845  0.02299256]\n",
      " [ 0.4385353   0.26304296  0.42704868]\n",
      " [ 0.11623834  0.09240017  0.13425164]\n",
      " [ 0.12192368  0.09737875  0.13686742]\n",
      " [ 0.02926669 -0.01255915  0.02652451]\n",
      " [ 0.11727548  0.12174419  0.10917015]\n",
      " [ 0.06387767  0.09554694  0.08302751]\n",
      " [ 0.15186578  0.16285968  0.17030986]\n",
      " [ 0.2119368   0.16063471  0.2100936 ]\n",
      " [ 0.1741901   0.21000686  0.18487962]\n",
      " [ 0.14794968  0.02508792  0.1445261 ]\n",
      " [ 0.0431589   0.0180457   0.05411948]\n",
      " [ 0.14874388  0.15907508  0.16569954]\n",
      " [ 0.28335014  0.14432544  0.2643233 ]\n",
      " [ 0.09134528  0.11961893  0.10707937]\n",
      " [ 0.26386335  0.20175464  0.28587985]\n",
      " [ 0.04905809 -0.0292237   0.05608664]\n",
      " [ 0.14066364  0.14700729  0.17248185]\n",
      " [ 0.0752448   0.0840686   0.11815767]\n",
      " [ 0.00100617  0.01630015  0.03514853]\n",
      " [ 0.14255306  0.12625709  0.16153704]\n",
      " [ 0.18888684  0.18149048  0.18297818]\n",
      " [ 0.20721902  0.2255952   0.219702  ]\n",
      " [ 0.28523678  0.01707428  0.29073295]\n",
      " [ 0.325369    0.25783643  0.3360793 ]]\n",
      "[[0.3458806  0.26304296 0.36276594]\n",
      " [0.38343367 0.27111402 0.3830022 ]\n",
      " [0.4385353  0.35985872 0.42704868]]\n"
     ]
    },
    {
     "data": {
      "text/plain": [
       "[{'crawled_date': '2023-02-13T18:00:05',\n",
       "  'country_of_origin': 'germany',\n",
       "  'label': 'False',\n",
       "  'url': 'https://correctiv.org/faktencheck/2021/02/03/vergleich-der-nebenwirkungen-der-impfung-und-von-symptomen-bei-covid-19-fuehrt-in-die-irre/?lang=de',\n",
       "  'lang': 'en',\n",
       "  'claim': 'Durch einen Vergleich mit den Symptomen einer Covid-19-Erkrankung entsteht der Eindruck, die Impfung von Biontech/Pfizer verursache ähnliche oder gar schlimmere Symptome als Covid-19. Der Impfstoff sei zudem laut der U.S. Food and Drug Administration (FDA) nicht zugelassen.',\n",
       "  'taxonomy_label': 'interval',\n",
       "  'label_original': 'Fehlender Kontext',\n",
       "  'subquestions': ['does the biontech/pfizer vaccine cause similar or worse symptoms than covid-19?\\n',\n",
       "   ' is the biontech/pfizer vaccine not approved by the u.s. food and drug administration (fda)?\\n',\n",
       "   ' is there evidence to support the claim that the biontech/pfizer vaccine causes similar or worse symptoms than covid-19?'],\n",
       "  'evidences': ['im video \"impact of covid vaccination on mortality\" soll die these belegt werden, indem gezeigt wird, dass die todeszahlen nach beginn der impfkampagnen nicht gesunken, sondern gestiegen sind. zwar stammen die zahlen aus offiziellen quellen, wurden aber aus dem kontext gerissen: zum beispiel wird bei der betrachtung die zahl der covid-infektionen nicht mit einbezogen - diese ist jedoch der wichtigste faktor fr die entwicklung der todeszahlen. weiterhin sagt der beginn der impfkampagne nichts darber aus, wie viele menschen wann geimpft wurden oder wann sie den vollstndigen impfschutz erreicht haben. werden hingegen alle relevanten daten einbezogen, zeigt sich z.b. in israel und deutschland, dass die zahl der covid-19-toten nach beginn der impfkampagnen trotz steigender infektionszahlen zurckging.',\n",
       "   'nach der ersten dosis und 85 % eine woche nach der zweiten dosis. eine der impfstoff tozinameran von biontech/pfizer zeigt nach dieser studie folgende',\n",
       "   'biontech und pfizer haben mit comirnaty  (bnt162b2) den weltweit ersten in einem regulren prfverfahren zugelassenen impfstoff gegen covid-19 entwickelt. in der klinischen prfung mit ber 44.000 probandinnen und probanden zeigte der impfstoff eine wirksamkeitsrate von ber 95 prozent und wies dabei keine schwerwiegenden nebenwirkungen auf.',\n",
       "   'die symptome hneln dabei teilweise denen von long covid. unter anderem sind nach der impfung gegen das coronavirus mit mrna-impfstoffen in sehr seltenen fllen ...']}]"
      ]
     },
     "execution_count": 50,
     "metadata": {},
     "output_type": "execute_result"
    }
   ],
   "execution_count": 50
  },
  {
   "metadata": {},
   "cell_type": "markdown",
   "source": "#### Assinging top100 evidences to claims",
   "id": "f077fddf261859d6"
  },
  {
   "metadata": {},
   "cell_type": "code",
   "outputs": [],
   "execution_count": null,
   "source": [
    "%autoreload\n",
    "\n",
    "def process(claims_file, evidences_file):\n",
    "    claims = read_data(claims_file)\n",
    "    evidences = read_data(evidences_file)\n",
    "\n",
    "    evidences = {e['claim']: e for e in evidences}\n",
    "\n",
    "    for claim in claims:\n",
    "        claim['top100evidences'] = evidences[claim['claim']]['top100evidences']\n",
    "\n",
    "    print(len(claims), len(evidences))\n",
    "    save_data(f'processed_{claims_file}', claims)\n",
    "\n",
    "\n",
    "process('train_claims_quantemp.json', 'train_evidences.json')\n",
    "process('val_claims_quantemp.json', 'val_evidences.json')\n",
    "process('test_claims_quantemp.json', 'test_evidences.json')"
   ],
   "id": "3608ee1567d5c543"
  },
  {
   "metadata": {},
   "cell_type": "markdown",
   "source": "#### Fixing format for gpt3.5-turbo decomposition",
   "id": "7c81c446c8030f98"
  },
  {
   "metadata": {
    "ExecuteTime": {
     "end_time": "2025-01-13T11:10:54.820223Z",
     "start_time": "2025-01-13T11:10:53.117738Z"
    }
   },
   "cell_type": "code",
   "outputs": [
    {
     "name": "stdout",
     "output_type": "stream",
     "text": [
      "The autoreload extension is already loaded. To reload it, use:\n",
      "  %reload_ext autoreload\n"
     ]
    }
   ],
   "execution_count": 9,
   "source": [
    "%autoreload\n",
    "\n",
    "claims = read_data(f'raw_data/test_claims_evidences.json')\n",
    "decomposed_questions = pd.read_csv(f'{DATA_PATH}/test_claimdecomp.csv', sep=\"@\")\n",
    "\n",
    "for claim in claims:#\n",
    "    questions = decomposed_questions[decomposed_questions['claims'] == claim['claim']]['questions']\n",
    "\n",
    "    if len(questions) == 0:\n",
    "        questions = []\n",
    "    elif len(questions) == 1:\n",
    "        questions = questions.iloc[0].split(\"Next Question: \")\n",
    "    else:\n",
    "        print(\"ERROR\")\n",
    "\n",
    "    questions = [q.strip() for q in questions]\n",
    "    claim['questions'] = questions\n",
    "\n",
    "\n",
    "with open(f'{DATA_PATH}/test_decomposed_gpt3.5-turbo.json', \"w\") as file:\n",
    "    json.dump(claims, file, indent=4)"
   ],
   "id": "f9e723661c6f5f0e"
  },
  {
   "metadata": {},
   "cell_type": "markdown",
   "source": "#### Fixing label names in gpt3.5-turbo decomposition",
   "id": "75571c2fc8ee2cba"
  },
  {
   "metadata": {
    "ExecuteTime": {
     "end_time": "2025-01-13T11:28:47.131079Z",
     "start_time": "2025-01-13T11:28:46.068541Z"
    }
   },
   "cell_type": "code",
   "outputs": [
    {
     "name": "stdout",
     "output_type": "stream",
     "text": [
      "The autoreload extension is already loaded. To reload it, use:\n",
      "  %reload_ext autoreload\n",
      "9935\n",
      "3084\n",
      "2495\n"
     ]
    }
   ],
   "execution_count": 18,
   "source": [
    "%autoreload\n",
    "\n",
    "def fix_labels(filename):\n",
    "    claims = read_data(filename)\n",
    "\n",
    "    for claim in claims:\n",
    "        if claim['label'] == \"Half True/False\":\n",
    "            claim['label'] = \"Conflicting\"\n",
    "\n",
    "        assert claim['label'] in QT_VERACITY_LABELS\n",
    "\n",
    "    print(len(claims))\n",
    "    save_data(f'fixed_{filename}', claims)\n",
    "\n",
    "\n",
    "fix_labels('train_evidences_decomposed_gpt3.5-turbo.json')\n",
    "fix_labels('val_evidences_decomposed_gpt3.5-turbo.json')\n",
    "fix_labels('test_evidences_decomposed_gpt3.5-turbo.json')\n"
   ],
   "id": "4fb58b6af2718cd2"
  },
  {
   "metadata": {},
   "cell_type": "markdown",
   "source": "#### Extract nested evidences to questions and evidences lists",
   "id": "e9157957e7dc50c5"
  },
  {
   "metadata": {
    "ExecuteTime": {
     "end_time": "2025-01-13T14:18:38.804608Z",
     "start_time": "2025-01-13T14:18:36.223231Z"
    }
   },
   "cell_type": "code",
   "source": [
    "%autoreload\n",
    "\n",
    "def extract(filename):\n",
    "    claims = read_data(filename)\n",
    "\n",
    "    for claim in claims:\n",
    "        questions = [e['questions'] for e in claim['evidences']]\n",
    "\n",
    "        del claim['evidences']\n",
    "        claim['questions'] = questions\n",
    "\n",
    "    print(len(claims))\n",
    "    save_data(f'{DATA_PATH}/fixed_{filename}', claims)\n",
    "\n",
    "extract('train_evidences_decomposed_gpt3.5-turbo.json')\n",
    "extract('val_evidences_decomposed_gpt3.5-turbo.json')\n",
    "extract('test_evidences_decomposed_gpt3.5-turbo.json')"
   ],
   "id": "10697d7d1c8c2618",
   "outputs": [
    {
     "name": "stdout",
     "output_type": "stream",
     "text": [
      "The autoreload extension is already loaded. To reload it, use:\n",
      "  %reload_ext autoreload\n",
      "9935\n",
      "3084\n",
      "2495\n"
     ]
    }
   ],
   "execution_count": 19
  },
  {
   "metadata": {},
   "cell_type": "markdown",
   "source": "#### Assigning gpt3.5-turbo decomposition questions to",
   "id": "a68a4d2ab2401844"
  },
  {
   "metadata": {
    "ExecuteTime": {
     "end_time": "2025-01-13T14:54:41.325882Z",
     "start_time": "2025-01-13T14:54:37.853954Z"
    }
   },
   "cell_type": "code",
   "source": [
    "%autoreload\n",
    "\n",
    "def process(claims_filename, questions_filename):\n",
    "    claims = read_data(f'raw_data/{claims_filename}')\n",
    "    questions = read_data(f'gpt3.5-turbo/{questions_filename}')\n",
    "    print(len(claims), len(questions))\n",
    "\n",
    "    questions_dict = {q['claim']: q['questions'] for q in questions}\n",
    "\n",
    "    for claim in claims:\n",
    "        claim['questions'] = questions_dict[claim['claim']]\n",
    "\n",
    "    save_data(f'gpt3.5-turbo/processed_{claims_filename}', claims)\n",
    "\n",
    "\n",
    "process('train_claims.json', 'train_decomposed_gpt3.5-turbo.json')\n",
    "process('val_claims.json', 'val_decomposed_gpt3.5-turbo.json')\n",
    "process('test_claims.json', 'test_decomposed_gpt3.5-turbo.json')"
   ],
   "id": "496dacefc2573df8",
   "outputs": [
    {
     "name": "stdout",
     "output_type": "stream",
     "text": [
      "9935 9935\n",
      "3084 3084\n",
      "2495 2495\n"
     ]
    }
   ],
   "execution_count": 23
  },
  {
   "metadata": {},
   "cell_type": "markdown",
   "source": "#### Rename field key",
   "id": "1c9bc36af7924011"
  },
  {
   "metadata": {
    "ExecuteTime": {
     "end_time": "2025-01-13T15:27:31.305004Z",
     "start_time": "2025-01-13T15:27:26.446225Z"
    }
   },
   "cell_type": "code",
   "source": [
    "def rename_key(path, filename, old_key, new_key):\n",
    "    claims = read_data(os.path.join(path, filename))\n",
    "\n",
    "    for claim in claims:\n",
    "        claim[new_key] = claim.pop(old_key)\n",
    "\n",
    "    print(len(claims))\n",
    "    save_data(os.path.join(path, f'renamed_{filename}'), claims)\n",
    "\n",
    "path = 'gpt3.5-turbo'\n",
    "rename_key(path, 'train_decomposed_gpt3.5-turbo.json', 'questions', 'subquestions')\n",
    "rename_key(path, 'val_decomposed_gpt3.5-turbo.json', 'questions', 'subquestions')\n",
    "rename_key(path, 'test_decomposed_gpt3.5-turbo.json', 'questions', 'subquestions')"
   ],
   "id": "5c41f0c0a1220a5a",
   "outputs": [
    {
     "name": "stdout",
     "output_type": "stream",
     "text": [
      "9935\n",
      "3084\n",
      "2495\n"
     ]
    }
   ],
   "execution_count": 29
  },
  {
   "metadata": {},
   "cell_type": "markdown",
   "source": "#### Remove field",
   "id": "6512903e4cfefbcc"
  },
  {
   "metadata": {},
   "cell_type": "code",
   "outputs": [],
   "execution_count": null,
   "source": [
    "def remove_field(path, filename, key):\n",
    "    claims = read_data(os.path.join(path, filename))\n",
    "\n",
    "    for claim in claims:\n",
    "        del claim[key]\n",
    "\n",
    "    print(len(claims))\n",
    "    save_data(os.path.join(path, f'processed_{filename}'), claims)\n",
    "\n",
    "path = 'gpt3.5-turbo'\n",
    "remove_field(path, 'train_decomposed_gpt3.5-turbo.json', 'doc')"
   ],
   "id": "ad3c1dce997c36b4"
  }
 ],
 "metadata": {
  "kernelspec": {
   "name": "python3",
   "language": "python",
   "display_name": "Python 3 (ipykernel)"
  }
 },
 "nbformat": 5,
 "nbformat_minor": 9
}
