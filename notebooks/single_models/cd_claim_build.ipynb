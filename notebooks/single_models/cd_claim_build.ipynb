{
 "cells": [
  {
   "cell_type": "code",
   "id": "initial_id",
   "metadata": {
    "collapsed": true,
    "ExecuteTime": {
     "end_time": "2025-01-16T15:49:02.010229Z",
     "start_time": "2025-01-16T15:49:01.976274Z"
    }
   },
   "source": [
    "%load_ext autoreload\n",
    "%autoreload\n",
    "\n",
    "from src.common import read_data, QTClaim, QTDataset, save_data\n",
    "from typing import Dict\n",
    "from copy import deepcopy"
   ],
   "outputs": [
    {
     "name": "stdout",
     "output_type": "stream",
     "text": [
      "The autoreload extension is already loaded. To reload it, use:\n",
      "  %reload_ext autoreload\n"
     ]
    }
   ],
   "execution_count": 103
  },
  {
   "metadata": {
    "ExecuteTime": {
     "end_time": "2025-01-16T15:49:05.893867Z",
     "start_time": "2025-01-16T15:49:05.691637Z"
    }
   },
   "cell_type": "code",
   "source": [
    "def load_and_combine(split):\n",
    "    all_claims = []\n",
    "    for category in ['statistical', 'interval', 'comparison', 'temporal']:\n",
    "        try:\n",
    "            claims = read_data(f'custom_decomposition/{split}_extracted_{category}.json')\n",
    "            print(f'{split} {category}: {len(claims)}')\n",
    "\n",
    "            for claim in claims:\n",
    "                assert claim['taxonomy_label'].strip() == category\n",
    "\n",
    "            all_claims += claims\n",
    "        except FileNotFoundError as e:\n",
    "            print(f'{split} {category}: -')\n",
    "\n",
    "    print(f'{len(all_claims)}\\n')\n",
    "    return all_claims\n",
    "\n",
    "\n",
    "train_claims = load_and_combine('train')\n",
    "val_claims = load_and_combine('val')\n",
    "test_claims = load_and_combine('test')"
   ],
   "id": "4cc223c031f84105",
   "outputs": [
    {
     "name": "stdout",
     "output_type": "stream",
     "text": [
      "train statistical: 4660\n",
      "train interval: 1541\n",
      "train comparison: 1051\n",
      "train temporal: 2683\n",
      "9935\n",
      "\n",
      "val statistical: 1432\n",
      "val interval: 469\n",
      "val comparison: 339\n",
      "val temporal: 844\n",
      "3084\n",
      "\n",
      "test statistical: 1210\n",
      "test interval: 347\n",
      "test comparison: 255\n",
      "test temporal: 683\n",
      "2495\n",
      "\n"
     ]
    }
   ],
   "execution_count": 104
  },
  {
   "metadata": {
    "ExecuteTime": {
     "end_time": "2025-01-16T15:49:08.082256Z",
     "start_time": "2025-01-16T15:49:07.744647Z"
    }
   },
   "cell_type": "code",
   "source": [
    "subquestions_templates = {\n",
    "    'statistical': \"What do the quantities {} mean in this claim? Are these quantities rigorously proven by the evidence?\",\n",
    "\n",
    "    'interval': \"This claim contains a range or interval of numbers. What do the numbers {} mean in this claim? Are these numbers rigorously proven by the evidence?\",\n",
    "\n",
    "    'comparison': \"This claim contains a comparison of numbers. What do the numbers {} mean in this claim? Are these numbers rigorously proven by the evidence?\",\n",
    "\n",
    "    'temporal': \"What do the dates {} mean in this claim? Are these dates rigorously proven by the evidence?\",\n",
    "}\n",
    "\n",
    "\n",
    "def num_dict_to_text(num_dict: Dict[str, str]) -> str:\n",
    "    if 'Numbers' in num_dict:\n",
    "        values = num_dict['Numbers']\n",
    "    elif 'Time' in num_dict:\n",
    "        values = [val for val in num_dict.values() if val]\n",
    "    else:\n",
    "        return None\n",
    "\n",
    "    return ', '.join(set(values))\n",
    "\n",
    "\n",
    "def add_numerical_subquestion(claim: QTClaim) -> None:\n",
    "    nums_text = num_dict_to_text(claim['extracted_nums'])\n",
    "\n",
    "    if not nums_text:\n",
    "        return claim\n",
    "\n",
    "    template = subquestions_templates[claim['taxonomy_label'].strip()]\n",
    "    subquestion = template.format(nums_text)\n",
    "    claim['subquestions'].append(subquestion)\n",
    "\n",
    "\n",
    "def add_subquestions(claims: QTDataset) -> None:\n",
    "    for claim in claims:\n",
    "        add_numerical_subquestion(claim)\n",
    "\n",
    "\n",
    "# add_numerical_subquestion(deepcopy(test_claims[-8]))\n",
    "\n",
    "add_subquestions(train_claims)\n",
    "add_subquestions(val_claims)\n",
    "add_subquestions(test_claims)\n",
    "\n",
    "save_data('custom_decomposition/train_evidences_decomposed_custom.json', train_claims)\n",
    "save_data('custom_decomposition/val_evidences_decomposed_custom.json', val_claims)\n",
    "save_data('custom_decomposition/test_evidences_decomposed_custom.json', test_claims)"
   ],
   "id": "897e236f3d831488",
   "outputs": [],
   "execution_count": 105
  }
 ],
 "metadata": {
  "kernelspec": {
   "display_name": "Python 3",
   "language": "python",
   "name": "python3"
  },
  "language_info": {
   "codemirror_mode": {
    "name": "ipython",
    "version": 2
   },
   "file_extension": ".py",
   "mimetype": "text/x-python",
   "name": "python",
   "nbconvert_exporter": "python",
   "pygments_lexer": "ipython2",
   "version": "2.7.6"
  }
 },
 "nbformat": 4,
 "nbformat_minor": 5
}
